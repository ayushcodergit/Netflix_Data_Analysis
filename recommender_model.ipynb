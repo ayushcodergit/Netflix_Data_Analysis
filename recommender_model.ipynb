{
 "cells": [
  {
   "cell_type": "code",
   "execution_count": 1,
   "id": "92ee0bdb",
   "metadata": {},
   "outputs": [
    {
     "name": "stderr",
     "output_type": "stream",
     "text": [
      "C:\\Users\\Asus\\AppData\\Local\\Temp\\ipykernel_15124\\2044076128.py:11: FutureWarning: A value is trying to be set on a copy of a DataFrame or Series through chained assignment using an inplace method.\n",
      "The behavior will change in pandas 3.0. This inplace method will never work because the intermediate object on which we are setting values always behaves as a copy.\n",
      "\n",
      "For example, when doing 'df[col].method(value, inplace=True)', try using 'df.method({col: value}, inplace=True)' or df[col] = df[col].method(value) instead, to perform the operation inplace on the original object.\n",
      "\n",
      "\n",
      "  df['description'].fillna(\"\", inplace=True)\n",
      "C:\\Users\\Asus\\AppData\\Local\\Temp\\ipykernel_15124\\2044076128.py:12: FutureWarning: A value is trying to be set on a copy of a DataFrame or Series through chained assignment using an inplace method.\n",
      "The behavior will change in pandas 3.0. This inplace method will never work because the intermediate object on which we are setting values always behaves as a copy.\n",
      "\n",
      "For example, when doing 'df[col].method(value, inplace=True)', try using 'df.method({col: value}, inplace=True)' or df[col] = df[col].method(value) instead, to perform the operation inplace on the original object.\n",
      "\n",
      "\n",
      "  df['listed_in'].fillna(\"\", inplace=True)\n"
     ]
    },
    {
     "name": "stdout",
     "output_type": "stream",
     "text": [
      "\n",
      "Recommended for 'Breaking Bad':\n",
      "['Extracurricular', 'Iron Ladies', 'Have You Ever Fallen in Love, Miss Jiang?', 'Sparta', 'The Mess You Leave Behind', 'The Writer', 'Love 101', 'Good Morning Call', 'The Underclass', 'Age of Rebellion']\n"
     ]
    }
   ],
   "source": [
    "\n",
    "# Content-based movie recommender system using genres\n",
    "\n",
    "import pandas as pd\n",
    "from sklearn.feature_extraction.text import TfidfVectorizer\n",
    "from sklearn.metrics.pairwise import linear_kernel\n",
    "\n",
    "# Load cleaned data\n",
    "df = pd.read_csv(\"cleaned_netflix_data.csv\")\n",
    "\n",
    "# Fill NaNs in description or genre\n",
    "df['description'].fillna(\"\", inplace=True)\n",
    "df['listed_in'].fillna(\"\", inplace=True)\n",
    "\n",
    "# Combine genres and description for better context\n",
    "df['combined_features'] = df['listed_in'] + \" \" + df['description']\n",
    "\n",
    "# Vectorize combined text\n",
    "tfidf = TfidfVectorizer(stop_words='english')\n",
    "tfidf_matrix = tfidf.fit_transform(df['combined_features'])\n",
    "\n",
    "# Compute cosine similarity matrix\n",
    "cosine_sim = linear_kernel(tfidf_matrix, tfidf_matrix)\n",
    "\n",
    "# Reset index and map titles\n",
    "df = df.reset_index()\n",
    "title_indices = pd.Series(df.index, index=df['title'].str.lower())\n",
    "\n",
    "# Recommender function\n",
    "def get_recommendations(title, cosine_sim=cosine_sim):\n",
    "    idx = title_indices.get(title.lower())\n",
    "    if idx is None:\n",
    "        return [\"Title not found. Please check the spelling or try another.\"]\n",
    "\n",
    "    sim_scores = list(enumerate(cosine_sim[idx]))\n",
    "    sim_scores = sorted(sim_scores, key=lambda x: x[1], reverse=True)[1:11]\n",
    "    movie_indices = [i[0] for i in sim_scores]\n",
    "    return df['title'].iloc[movie_indices].tolist()\n",
    "\n",
    "# Example usage\n",
    "print(\"\\nRecommended for 'Breaking Bad':\")\n",
    "print(get_recommendations(\"Breaking Bad\"))\n"
   ]
  }
 ],
 "metadata": {
  "kernelspec": {
   "display_name": "Python 3",
   "language": "python",
   "name": "python3"
  },
  "language_info": {
   "codemirror_mode": {
    "name": "ipython",
    "version": 3
   },
   "file_extension": ".py",
   "mimetype": "text/x-python",
   "name": "python",
   "nbconvert_exporter": "python",
   "pygments_lexer": "ipython3",
   "version": "3.11.9"
  }
 },
 "nbformat": 4,
 "nbformat_minor": 5
}
