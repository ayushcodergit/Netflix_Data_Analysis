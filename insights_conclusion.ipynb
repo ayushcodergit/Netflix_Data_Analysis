{
 "cells": [
  {
   "cell_type": "code",
   "execution_count": 1,
   "id": "589161e3",
   "metadata": {},
   "outputs": [
    {
     "name": "stdout",
     "output_type": "stream",
     "text": [
      "\n",
      "📌 Key Insights from Netflix Data Analysis:\n",
      "\n",
      "1. Movies dominate the platform, with significantly more titles than TV Shows.\n",
      "2. Netflix saw a major spike in content addition around 2018–2020, indicating aggressive expansion.\n",
      "3. The United States leads in content contribution, followed by India and the UK.\n",
      "4. Most common genres include Dramas, International Movies, and Comedies — suggesting diverse and global appeal.\n",
      "5. TV-MA and TV-14 are the most common ratings, indicating a focus on mature content.\n",
      "6. The recommender system can suggest personalized titles based on content similarity — useful for user retention.\n",
      "\n",
      "✅ This analysis can help stakeholders understand audience preferences, guide content acquisition, and enhance user experience.\n"
     ]
    }
   ],
   "source": [
    "#Key findings, trends, and strategic insights from Netflix dataset\n",
    "\n",
    "print(\"\\n📌 Key Insights from Netflix Data Analysis:\\n\")\n",
    "\n",
    "# Content type dominance\n",
    "print(\"1. Movies dominate the platform, with significantly more titles than TV Shows.\")\n",
    "\n",
    "# Content growth trend\n",
    "print(\"2. Netflix saw a major spike in content addition around 2018–2020, indicating aggressive expansion.\")\n",
    "\n",
    "# Country-wise distribution\n",
    "print(\"3. The United States leads in content contribution, followed by India and the UK.\")\n",
    "\n",
    "# Genre popularity\n",
    "print(\"4. Most common genres include Dramas, International Movies, and Comedies — suggesting diverse and global appeal.\")\n",
    "\n",
    "# Ratings breakdown\n",
    "print(\"5. TV-MA and TV-14 are the most common ratings, indicating a focus on mature content.\")\n",
    "\n",
    "# Recommendation value\n",
    "print(\"6. The recommender system can suggest personalized titles based on content similarity — useful for user retention.\")\n",
    "\n",
    "print(\"\\n✅ This analysis can help stakeholders understand audience preferences, guide content acquisition, and enhance user experience.\")\n"
   ]
  }
 ],
 "metadata": {
  "kernelspec": {
   "display_name": "Python 3",
   "language": "python",
   "name": "python3"
  },
  "language_info": {
   "codemirror_mode": {
    "name": "ipython",
    "version": 3
   },
   "file_extension": ".py",
   "mimetype": "text/x-python",
   "name": "python",
   "nbconvert_exporter": "python",
   "pygments_lexer": "ipython3",
   "version": "3.11.9"
  }
 },
 "nbformat": 4,
 "nbformat_minor": 5
}
