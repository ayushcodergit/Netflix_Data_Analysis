{
 "cells": [
  {
   "cell_type": "code",
   "execution_count": null,
   "id": "d35a7802",
   "metadata": {},
   "outputs": [
    {
     "name": "stdout",
     "output_type": "stream",
     "text": [
      "Data cleaned and saved as 'cleaned_netflix_data.csv'\n"
     ]
    },
    {
     "name": "stderr",
     "output_type": "stream",
     "text": [
      "C:\\Users\\Asus\\AppData\\Local\\Temp\\ipykernel_2772\\2150853997.py:14: FutureWarning: A value is trying to be set on a copy of a DataFrame or Series through chained assignment using an inplace method.\n",
      "The behavior will change in pandas 3.0. This inplace method will never work because the intermediate object on which we are setting values always behaves as a copy.\n",
      "\n",
      "For example, when doing 'df[col].method(value, inplace=True)', try using 'df.method({col: value}, inplace=True)' or df[col] = df[col].method(value) instead, to perform the operation inplace on the original object.\n",
      "\n",
      "\n",
      "  df['director'].fillna(\"Not Specified\", inplace=True)\n",
      "C:\\Users\\Asus\\AppData\\Local\\Temp\\ipykernel_2772\\2150853997.py:15: FutureWarning: A value is trying to be set on a copy of a DataFrame or Series through chained assignment using an inplace method.\n",
      "The behavior will change in pandas 3.0. This inplace method will never work because the intermediate object on which we are setting values always behaves as a copy.\n",
      "\n",
      "For example, when doing 'df[col].method(value, inplace=True)', try using 'df.method({col: value}, inplace=True)' or df[col] = df[col].method(value) instead, to perform the operation inplace on the original object.\n",
      "\n",
      "\n",
      "  df['cast'].fillna(\"Not Specified\", inplace=True)\n",
      "C:\\Users\\Asus\\AppData\\Local\\Temp\\ipykernel_2772\\2150853997.py:16: FutureWarning: A value is trying to be set on a copy of a DataFrame or Series through chained assignment using an inplace method.\n",
      "The behavior will change in pandas 3.0. This inplace method will never work because the intermediate object on which we are setting values always behaves as a copy.\n",
      "\n",
      "For example, when doing 'df[col].method(value, inplace=True)', try using 'df.method({col: value}, inplace=True)' or df[col] = df[col].method(value) instead, to perform the operation inplace on the original object.\n",
      "\n",
      "\n",
      "  df['country'].fillna(\"Not Specified\", inplace=True)\n",
      "C:\\Users\\Asus\\AppData\\Local\\Temp\\ipykernel_2772\\2150853997.py:17: FutureWarning: A value is trying to be set on a copy of a DataFrame or Series through chained assignment using an inplace method.\n",
      "The behavior will change in pandas 3.0. This inplace method will never work because the intermediate object on which we are setting values always behaves as a copy.\n",
      "\n",
      "For example, when doing 'df[col].method(value, inplace=True)', try using 'df.method({col: value}, inplace=True)' or df[col] = df[col].method(value) instead, to perform the operation inplace on the original object.\n",
      "\n",
      "\n",
      "  df['rating'].fillna(\"Not Rated\", inplace=True)\n",
      "C:\\Users\\Asus\\AppData\\Local\\Temp\\ipykernel_2772\\2150853997.py:18: FutureWarning: A value is trying to be set on a copy of a DataFrame or Series through chained assignment using an inplace method.\n",
      "The behavior will change in pandas 3.0. This inplace method will never work because the intermediate object on which we are setting values always behaves as a copy.\n",
      "\n",
      "For example, when doing 'df[col].method(value, inplace=True)', try using 'df.method({col: value}, inplace=True)' or df[col] = df[col].method(value) instead, to perform the operation inplace on the original object.\n",
      "\n",
      "\n",
      "  df['duration'].fillna(\"0\", inplace=True)\n"
     ]
    }
   ],
   "source": [
    "#Load, clean, and preprocess the Netflix dataset\n",
    "\n",
    "import pandas as pd\n",
    "\n",
    "# Load dataset\n",
    "df = pd.read_csv(\"netflix_titles.csv\")\n",
    "\n",
    "# Convert 'date_added' to datetime\n",
    "df['date_added'] = pd.to_datetime(df['date_added'], errors='coerce')\n",
    "df['year_added'] = df['date_added'].dt.year\n",
    "df['month_added'] = df['date_added'].dt.month\n",
    "\n",
    "# Fill missing values\n",
    "df['director'].fillna(\"Not Specified\", inplace=True)\n",
    "df['cast'].fillna(\"Not Specified\", inplace=True)\n",
    "df['country'].fillna(\"Not Specified\", inplace=True)\n",
    "df['rating'].fillna(\"Not Rated\", inplace=True)\n",
    "df['duration'].fillna(\"0\", inplace=True)\n",
    "\n",
    "# Split duration into numerical and type\n",
    "df[['duration_int', 'duration_type']] = df['duration'].str.extract(r'(\\d+)\\s*(\\w+)?')\n",
    "df['duration_int'] = pd.to_numeric(df['duration_int'], errors='coerce').fillna(0).astype(int)\n",
    "\n",
    "# Drop nulls and duplicates\n",
    "df.dropna(subset=['date_added'], inplace=True)\n",
    "df.drop_duplicates(inplace=True)\n",
    "\n",
    "# Save cleaned data for reuse\n",
    "df.to_csv(\"cleaned_netflix_data.csv\", index=False)\n",
    "print(\"Data cleaned and saved as 'cleaned_netflix_data.csv'\")\n"
   ]
  }
 ],
 "metadata": {
  "kernelspec": {
   "display_name": "Python 3",
   "language": "python",
   "name": "python3"
  },
  "language_info": {
   "codemirror_mode": {
    "name": "ipython",
    "version": 3
   },
   "file_extension": ".py",
   "mimetype": "text/x-python",
   "name": "python",
   "nbconvert_exporter": "python",
   "pygments_lexer": "ipython3",
   "version": "3.11.9"
  }
 },
 "nbformat": 4,
 "nbformat_minor": 5
}
